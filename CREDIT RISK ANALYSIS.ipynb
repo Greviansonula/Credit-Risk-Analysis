{
 "cells": [
  {
   "cell_type": "markdown",
   "id": "41cc4e0a",
   "metadata": {},
   "source": [
    "## IMPORT LIBRARIES"
   ]
  },
  {
   "cell_type": "code",
   "execution_count": 39,
   "id": "7882f62a",
   "metadata": {},
   "outputs": [],
   "source": [
    "import pandas as pd\n",
    "import numpy as np\n",
    "import matplotlib as mpl\n",
    "import matplotlib.pyplot as plt\n",
    "import seaborn as sns\n",
    "\n",
    "from sklearn.impute import SimpleImputer\n",
    "from sklearn.preprocessing import LabelEncoder, StandardScaler\n",
    "from sklearn.model_selection import train_test_split, cross_validate, GridSearchCV, cross_val_score\n",
    "from imblearn.under_sampling import RandomUnderSampler\n",
    "from sklearn.metrics import accuracy_score, f1_score, confusion_matrix, classification_report\n",
    "from sklearn.pipeline import make_pipeline\n",
    "from sklearn.model_selection import StratifiedKFold\n",
    "from xgboost import XGBClassifier\n",
    "from lightgbm import LGBMClassifier\n",
    "from sklearn.ensemble import RandomForestClassifier\n",
    "\n",
    "sns.set_style()\n",
    "\n",
    "# IGNORE WARNINGS\n",
    "import warnings\n",
    "warnings.filterwarnings('ignore')\n",
    "\n",
    "np.random.seed(2022)"
   ]
  },
  {
   "cell_type": "code",
   "execution_count": 40,
   "id": "e63dc943",
   "metadata": {},
   "outputs": [],
   "source": [
    "# LOAD THE DATE AS A DATAFRAME\n",
    "df = pd.read_csv('acquisition_train.csv')"
   ]
  },
  {
   "cell_type": "code",
   "execution_count": 41,
   "id": "a4627de0",
   "metadata": {},
   "outputs": [
    {
     "data": {
      "text/html": [
       "<div>\n",
       "<style scoped>\n",
       "    .dataframe tbody tr th:only-of-type {\n",
       "        vertical-align: middle;\n",
       "    }\n",
       "\n",
       "    .dataframe tbody tr th {\n",
       "        vertical-align: top;\n",
       "    }\n",
       "\n",
       "    .dataframe thead th {\n",
       "        text-align: right;\n",
       "    }\n",
       "</style>\n",
       "<table border=\"1\" class=\"dataframe\">\n",
       "  <thead>\n",
       "    <tr style=\"text-align: right;\">\n",
       "      <th></th>\n",
       "      <th>ids</th>\n",
       "      <th>target_default</th>\n",
       "      <th>score_1</th>\n",
       "      <th>score_2</th>\n",
       "      <th>score_3</th>\n",
       "      <th>score_4</th>\n",
       "      <th>score_5</th>\n",
       "      <th>score_6</th>\n",
       "      <th>risk_rate</th>\n",
       "      <th>last_amount_borrowed</th>\n",
       "      <th>...</th>\n",
       "      <th>external_data_provider_fraud_score</th>\n",
       "      <th>lat_lon</th>\n",
       "      <th>marketing_channel</th>\n",
       "      <th>profile_phone_number</th>\n",
       "      <th>reported_income</th>\n",
       "      <th>shipping_state</th>\n",
       "      <th>shipping_zip_code</th>\n",
       "      <th>profile_tags</th>\n",
       "      <th>user_agent</th>\n",
       "      <th>target_fraud</th>\n",
       "    </tr>\n",
       "  </thead>\n",
       "  <tbody>\n",
       "    <tr>\n",
       "      <th>0</th>\n",
       "      <td>343b7e7b-2cf8-e508-b8fd-0a0285af30aa</td>\n",
       "      <td>False</td>\n",
       "      <td>1Rk8w4Ucd5yR3KcqZzLdow==</td>\n",
       "      <td>IOVu8au3ISbo6+zmfnYwMg==</td>\n",
       "      <td>350.0</td>\n",
       "      <td>101.800832</td>\n",
       "      <td>0.259555</td>\n",
       "      <td>108.427273</td>\n",
       "      <td>0.40</td>\n",
       "      <td>25033.92</td>\n",
       "      <td>...</td>\n",
       "      <td>645</td>\n",
       "      <td>(-29.151545708122246, -51.1386461804385)</td>\n",
       "      <td>Invite-email</td>\n",
       "      <td>514-9840782</td>\n",
       "      <td>57849.0</td>\n",
       "      <td>BR-MT</td>\n",
       "      <td>17528</td>\n",
       "      <td>{'tags': ['n19', 'n8']}</td>\n",
       "      <td>Mozilla/5.0 (Linux; Android 6.0.1; SGP771 Buil...</td>\n",
       "      <td>NaN</td>\n",
       "    </tr>\n",
       "    <tr>\n",
       "      <th>1</th>\n",
       "      <td>bc2c7502-bbad-0f8c-39c3-94e881967124</td>\n",
       "      <td>False</td>\n",
       "      <td>DGCQep2AE5QRkNCshIAlFQ==</td>\n",
       "      <td>SaamrHMo23l/3TwXOWgVzw==</td>\n",
       "      <td>370.0</td>\n",
       "      <td>97.062615</td>\n",
       "      <td>0.942655</td>\n",
       "      <td>92.002546</td>\n",
       "      <td>0.24</td>\n",
       "      <td>NaN</td>\n",
       "      <td>...</td>\n",
       "      <td>243</td>\n",
       "      <td>(-19.687710705798963, -47.94151536525154)</td>\n",
       "      <td>Radio-commercial</td>\n",
       "      <td>251-3659293</td>\n",
       "      <td>4902.0</td>\n",
       "      <td>BR-RS</td>\n",
       "      <td>40933</td>\n",
       "      <td>{'tags': ['n6', 'n7', 'nim']}</td>\n",
       "      <td>Mozilla/5.0 (Linux; Android 5.0.2; SAMSUNG SM-...</td>\n",
       "      <td>NaN</td>\n",
       "    </tr>\n",
       "    <tr>\n",
       "      <th>2</th>\n",
       "      <td>669630dd-2e6a-0396-84bf-455e5009c922</td>\n",
       "      <td>True</td>\n",
       "      <td>DGCQep2AE5QRkNCshIAlFQ==</td>\n",
       "      <td>Fv28Bz0YRTVAT5kl1bAV6g==</td>\n",
       "      <td>360.0</td>\n",
       "      <td>100.027073</td>\n",
       "      <td>0.351918</td>\n",
       "      <td>112.892453</td>\n",
       "      <td>0.29</td>\n",
       "      <td>7207.92</td>\n",
       "      <td>...</td>\n",
       "      <td>65</td>\n",
       "      <td>(-28.748023890412284, -51.867279334353995)</td>\n",
       "      <td>Waiting-list</td>\n",
       "      <td>230-6097993</td>\n",
       "      <td>163679.0</td>\n",
       "      <td>BR-RR</td>\n",
       "      <td>50985</td>\n",
       "      <td>{'tags': ['n0', 'n17', 'nim', 'da']}</td>\n",
       "      <td>Mozilla/5.0 (Linux; Android 6.0.1; SGP771 Buil...</td>\n",
       "      <td>NaN</td>\n",
       "    </tr>\n",
       "    <tr>\n",
       "      <th>3</th>\n",
       "      <td>d235609e-b6cb-0ccc-a329-d4f12e7ebdc1</td>\n",
       "      <td>False</td>\n",
       "      <td>1Rk8w4Ucd5yR3KcqZzLdow==</td>\n",
       "      <td>dCm9hFKfdRm7ej3jW+gyxw==</td>\n",
       "      <td>510.0</td>\n",
       "      <td>101.599485</td>\n",
       "      <td>0.987673</td>\n",
       "      <td>94.902491</td>\n",
       "      <td>0.32</td>\n",
       "      <td>NaN</td>\n",
       "      <td>...</td>\n",
       "      <td>815</td>\n",
       "      <td>(-17.520650158450454, -39.75801139933186)</td>\n",
       "      <td>Waiting-list</td>\n",
       "      <td>261-3543751</td>\n",
       "      <td>1086.0</td>\n",
       "      <td>BR-RN</td>\n",
       "      <td>37825</td>\n",
       "      <td>{'tags': ['n4']}</td>\n",
       "      <td>Mozilla/5.0 (Linux; Android 6.0; HTC One X10 B...</td>\n",
       "      <td>NaN</td>\n",
       "    </tr>\n",
       "    <tr>\n",
       "      <th>4</th>\n",
       "      <td>9e0eb880-e8f4-3faa-67d8-f5cdd2b3932b</td>\n",
       "      <td>False</td>\n",
       "      <td>8k8UDR4Yx0qasAjkGrUZLw==</td>\n",
       "      <td>+CxEO4w7jv3QPI/BQbyqAA==</td>\n",
       "      <td>500.0</td>\n",
       "      <td>98.474289</td>\n",
       "      <td>0.532539</td>\n",
       "      <td>118.126207</td>\n",
       "      <td>0.18</td>\n",
       "      <td>NaN</td>\n",
       "      <td>...</td>\n",
       "      <td>320</td>\n",
       "      <td>(-16.574259446978008, -39.90990074785962)</td>\n",
       "      <td>Invite-email</td>\n",
       "      <td>102-3660162</td>\n",
       "      <td>198618.0</td>\n",
       "      <td>BR-MT</td>\n",
       "      <td>52827</td>\n",
       "      <td>{'tags': ['pro+aty', 'n19', 'da', 'b19']}</td>\n",
       "      <td>Mozilla/5.0 (Linux; Android 7.0; Pixel C Build...</td>\n",
       "      <td>NaN</td>\n",
       "    </tr>\n",
       "  </tbody>\n",
       "</table>\n",
       "<p>5 rows × 43 columns</p>\n",
       "</div>"
      ],
      "text/plain": [
       "                                    ids target_default  \\\n",
       "0  343b7e7b-2cf8-e508-b8fd-0a0285af30aa          False   \n",
       "1  bc2c7502-bbad-0f8c-39c3-94e881967124          False   \n",
       "2  669630dd-2e6a-0396-84bf-455e5009c922           True   \n",
       "3  d235609e-b6cb-0ccc-a329-d4f12e7ebdc1          False   \n",
       "4  9e0eb880-e8f4-3faa-67d8-f5cdd2b3932b          False   \n",
       "\n",
       "                    score_1                   score_2  score_3     score_4  \\\n",
       "0  1Rk8w4Ucd5yR3KcqZzLdow==  IOVu8au3ISbo6+zmfnYwMg==    350.0  101.800832   \n",
       "1  DGCQep2AE5QRkNCshIAlFQ==  SaamrHMo23l/3TwXOWgVzw==    370.0   97.062615   \n",
       "2  DGCQep2AE5QRkNCshIAlFQ==  Fv28Bz0YRTVAT5kl1bAV6g==    360.0  100.027073   \n",
       "3  1Rk8w4Ucd5yR3KcqZzLdow==  dCm9hFKfdRm7ej3jW+gyxw==    510.0  101.599485   \n",
       "4  8k8UDR4Yx0qasAjkGrUZLw==  +CxEO4w7jv3QPI/BQbyqAA==    500.0   98.474289   \n",
       "\n",
       "    score_5     score_6  risk_rate  last_amount_borrowed  ...  \\\n",
       "0  0.259555  108.427273       0.40              25033.92  ...   \n",
       "1  0.942655   92.002546       0.24                   NaN  ...   \n",
       "2  0.351918  112.892453       0.29               7207.92  ...   \n",
       "3  0.987673   94.902491       0.32                   NaN  ...   \n",
       "4  0.532539  118.126207       0.18                   NaN  ...   \n",
       "\n",
       "   external_data_provider_fraud_score  \\\n",
       "0                                 645   \n",
       "1                                 243   \n",
       "2                                  65   \n",
       "3                                 815   \n",
       "4                                 320   \n",
       "\n",
       "                                      lat_lon marketing_channel  \\\n",
       "0    (-29.151545708122246, -51.1386461804385)      Invite-email   \n",
       "1   (-19.687710705798963, -47.94151536525154)  Radio-commercial   \n",
       "2  (-28.748023890412284, -51.867279334353995)      Waiting-list   \n",
       "3   (-17.520650158450454, -39.75801139933186)      Waiting-list   \n",
       "4   (-16.574259446978008, -39.90990074785962)      Invite-email   \n",
       "\n",
       "   profile_phone_number reported_income shipping_state shipping_zip_code  \\\n",
       "0           514-9840782         57849.0          BR-MT             17528   \n",
       "1           251-3659293          4902.0          BR-RS             40933   \n",
       "2           230-6097993        163679.0          BR-RR             50985   \n",
       "3           261-3543751          1086.0          BR-RN             37825   \n",
       "4           102-3660162        198618.0          BR-MT             52827   \n",
       "\n",
       "                                profile_tags  \\\n",
       "0                    {'tags': ['n19', 'n8']}   \n",
       "1              {'tags': ['n6', 'n7', 'nim']}   \n",
       "2       {'tags': ['n0', 'n17', 'nim', 'da']}   \n",
       "3                           {'tags': ['n4']}   \n",
       "4  {'tags': ['pro+aty', 'n19', 'da', 'b19']}   \n",
       "\n",
       "                                          user_agent target_fraud  \n",
       "0  Mozilla/5.0 (Linux; Android 6.0.1; SGP771 Buil...          NaN  \n",
       "1  Mozilla/5.0 (Linux; Android 5.0.2; SAMSUNG SM-...          NaN  \n",
       "2  Mozilla/5.0 (Linux; Android 6.0.1; SGP771 Buil...          NaN  \n",
       "3  Mozilla/5.0 (Linux; Android 6.0; HTC One X10 B...          NaN  \n",
       "4  Mozilla/5.0 (Linux; Android 7.0; Pixel C Build...          NaN  \n",
       "\n",
       "[5 rows x 43 columns]"
      ]
     },
     "execution_count": 41,
     "metadata": {},
     "output_type": "execute_result"
    }
   ],
   "source": [
    "# PRINT FIVE SAMPLES\n",
    "df.head()"
   ]
  },
  {
   "cell_type": "markdown",
   "id": "4421bb12",
   "metadata": {},
   "source": [
    "## Data Analysis"
   ]
  },
  {
   "cell_type": "markdown",
   "id": "290c47f0",
   "metadata": {},
   "source": [
    "* We observe the data for basic statistical properties such as\n",
    "    * Number of features\n",
    "    * Number of data examples / applicants\n",
    "    * Distributions\n",
    "* We check the dataset for existence of : \n",
    "    * outliers\n",
    "    * missing values"
   ]
  },
  {
   "cell_type": "code",
   "execution_count": 42,
   "id": "9cf25b57",
   "metadata": {},
   "outputs": [
    {
     "name": "stdout",
     "output_type": "stream",
     "text": [
      "Number of rows:  45000\n",
      "Number of columns:  43\n"
     ]
    }
   ],
   "source": [
    "# PRINT SHAPE OF THE DATAFRAME\n",
    "print('Number of rows: ', df.shape[0])\n",
    "print('Number of columns: ', df.shape[1])"
   ]
  },
  {
   "cell_type": "markdown",
   "id": "bd99e4a0",
   "metadata": {},
   "source": [
    "The statistic above reveals that the dataset contains 43 disticnt features and 45000 training examples examples i.e clients.\n",
    "target_default is a boolean feature (True/False) and its the target variable."
   ]
  },
  {
   "cell_type": "code",
   "execution_count": 43,
   "id": "2058791f",
   "metadata": {},
   "outputs": [
    {
     "name": "stdout",
     "output_type": "stream",
     "text": [
      "<class 'pandas.core.frame.DataFrame'>\n",
      "RangeIndex: 45000 entries, 0 to 44999\n",
      "Data columns (total 43 columns):\n",
      " #   Column                                            Non-Null Count  Dtype  \n",
      "---  ------                                            --------------  -----  \n",
      " 0   ids                                               45000 non-null  object \n",
      " 1   target_default                                    41741 non-null  object \n",
      " 2   score_1                                           44438 non-null  object \n",
      " 3   score_2                                           44438 non-null  object \n",
      " 4   score_3                                           44438 non-null  float64\n",
      " 5   score_4                                           45000 non-null  float64\n",
      " 6   score_5                                           45000 non-null  float64\n",
      " 7   score_6                                           45000 non-null  float64\n",
      " 8   risk_rate                                         44438 non-null  float64\n",
      " 9   last_amount_borrowed                              15044 non-null  float64\n",
      " 10  last_borrowed_in_months                           15044 non-null  float64\n",
      " 11  credit_limit                                      31200 non-null  float64\n",
      " 12  reason                                            44434 non-null  object \n",
      " 13  income                                            44438 non-null  float64\n",
      " 14  facebook_profile                                  40542 non-null  object \n",
      " 15  state                                             44438 non-null  object \n",
      " 16  zip                                               44438 non-null  object \n",
      " 17  channel                                           44438 non-null  object \n",
      " 18  job_name                                          41664 non-null  object \n",
      " 19  real_state                                        44438 non-null  object \n",
      " 20  ok_since                                          18455 non-null  float64\n",
      " 21  n_bankruptcies                                    44303 non-null  float64\n",
      " 22  n_defaulted_loans                                 44426 non-null  float64\n",
      " 23  n_accounts                                        44438 non-null  float64\n",
      " 24  n_issues                                          33456 non-null  float64\n",
      " 25  application_time_applied                          45000 non-null  object \n",
      " 26  application_time_in_funnel                        45000 non-null  int64  \n",
      " 27  email                                             45000 non-null  object \n",
      " 28  external_data_provider_credit_checks_last_2_year  22372 non-null  float64\n",
      " 29  external_data_provider_credit_checks_last_month   45000 non-null  int64  \n",
      " 30  external_data_provider_credit_checks_last_year    29876 non-null  float64\n",
      " 31  external_data_provider_email_seen_before          42767 non-null  float64\n",
      " 32  external_data_provider_first_name                 45000 non-null  object \n",
      " 33  external_data_provider_fraud_score                45000 non-null  int64  \n",
      " 34  lat_lon                                           43637 non-null  object \n",
      " 35  marketing_channel                                 41422 non-null  object \n",
      " 36  profile_phone_number                              45000 non-null  object \n",
      " 37  reported_income                                   45000 non-null  float64\n",
      " 38  shipping_state                                    45000 non-null  object \n",
      " 39  shipping_zip_code                                 45000 non-null  int64  \n",
      " 40  profile_tags                                      45000 non-null  object \n",
      " 41  user_agent                                        44278 non-null  object \n",
      " 42  target_fraud                                      1522 non-null   object \n",
      "dtypes: float64(18), int64(4), object(21)\n",
      "memory usage: 14.8+ MB\n"
     ]
    }
   ],
   "source": [
    "# PRINT GENERAL INFO ABOUT THE DATA\n",
    "df.info()"
   ]
  },
  {
   "cell_type": "markdown",
   "id": "c63dcf85",
   "metadata": {},
   "source": [
    "    The general information above, reveals that some features have missing values."
   ]
  },
  {
   "cell_type": "code",
   "execution_count": 44,
   "id": "8afe883e",
   "metadata": {},
   "outputs": [
    {
     "name": "stdout",
     "output_type": "stream",
     "text": [
      "target_fraud                                        96.617778\n",
      "last_amount_borrowed                                66.568889\n",
      "last_borrowed_in_months                             66.568889\n",
      "ok_since                                            58.988889\n",
      "external_data_provider_credit_checks_last_2_year    50.284444\n",
      "external_data_provider_credit_checks_last_year      33.608889\n",
      "credit_limit                                        30.666667\n",
      "n_issues                                            25.653333\n",
      "facebook_profile                                     9.906667\n",
      "marketing_channel                                    7.951111\n",
      "job_name                                             7.413333\n",
      "target_default                                       7.242222\n",
      "external_data_provider_email_seen_before             4.962222\n",
      "lat_lon                                              3.028889\n",
      "user_agent                                           1.604444\n",
      "n_bankruptcies                                       1.548889\n",
      "n_defaulted_loans                                    1.275556\n",
      "reason                                               1.257778\n",
      "zip                                                  1.248889\n",
      "n_accounts                                           1.248889\n",
      "channel                                              1.248889\n",
      "score_1                                              1.248889\n",
      "score_3                                              1.248889\n",
      "risk_rate                                            1.248889\n",
      "income                                               1.248889\n",
      "real_state                                           1.248889\n",
      "state                                                1.248889\n",
      "score_2                                              1.248889\n",
      "profile_tags                                         0.000000\n",
      "shipping_zip_code                                    0.000000\n",
      "shipping_state                                       0.000000\n",
      "reported_income                                      0.000000\n",
      "profile_phone_number                                 0.000000\n",
      "external_data_provider_credit_checks_last_month      0.000000\n",
      "external_data_provider_fraud_score                   0.000000\n",
      "external_data_provider_first_name                    0.000000\n",
      "score_4                                              0.000000\n",
      "score_5                                              0.000000\n",
      "score_6                                              0.000000\n",
      "email                                                0.000000\n",
      "application_time_in_funnel                           0.000000\n",
      "application_time_applied                             0.000000\n",
      "ids                                                  0.000000\n",
      "dtype: float64\n"
     ]
    }
   ],
   "source": [
    "# PRINT MISSING VALUES AS A PERCENTAGE\n",
    "print((df.isnull().sum() * 100 / df.shape[0]).sort_values(ascending=False))"
   ]
  },
  {
   "cell_type": "markdown",
   "id": "05af162c",
   "metadata": {},
   "source": [
    "From the statistic above, observe that target_default has a number of missing values. This is the dependent variable, therefore  we don't have options for imputation we therefore eliminate all entries where target_default is null"
   ]
  },
  {
   "cell_type": "code",
   "execution_count": 8,
   "id": "ae7610ab",
   "metadata": {},
   "outputs": [],
   "source": [
    "df.dropna(subset=['target_default'], inplace=True)"
   ]
  },
  {
   "cell_type": "markdown",
   "id": "1f6b2b1a",
   "metadata": {},
   "source": [
    "Almost all examples of target_fraud are null, ie 96%, this feature is not much important to this project, so we drop"
   ]
  },
  {
   "cell_type": "code",
   "execution_count": 9,
   "id": "021090e0",
   "metadata": {},
   "outputs": [],
   "source": [
    "# DROP 'target_fraud'\n",
    "df.drop('target_fraud', axis=1, inplace=True)"
   ]
  },
  {
   "cell_type": "markdown",
   "id": "dafd68e1",
   "metadata": {},
   "source": [
    "Examining the number of unique values for each feature."
   ]
  },
  {
   "cell_type": "code",
   "execution_count": 10,
   "id": "ab53f8d0",
   "metadata": {},
   "outputs": [
    {
     "data": {
      "text/plain": [
       "channel                                                 1\n",
       "external_data_provider_credit_checks_last_2_year        1\n",
       "last_borrowed_in_months                                 2\n",
       "target_default                                          2\n",
       "facebook_profile                                        2\n",
       "external_data_provider_credit_checks_last_year          2\n",
       "external_data_provider_credit_checks_last_month         4\n",
       "real_state                                              5\n",
       "n_defaulted_loans                                       5\n",
       "email                                                   6\n",
       "n_bankruptcies                                          6\n",
       "score_1                                                 7\n",
       "marketing_channel                                       9\n",
       "shipping_state                                         25\n",
       "score_2                                                35\n",
       "n_issues                                               44\n",
       "n_accounts                                             44\n",
       "state                                                  50\n",
       "external_data_provider_email_seen_before               62\n",
       "risk_rate                                              81\n",
       "score_3                                                87\n",
       "ok_since                                              100\n",
       "user_agent                                            297\n",
       "application_time_in_funnel                            501\n",
       "zip                                                   823\n",
       "external_data_provider_fraud_score                   1001\n",
       "last_amount_borrowed                                13480\n",
       "reason                                              14260\n",
       "credit_limit                                        19336\n",
       "lat_lon                                             21596\n",
       "profile_tags                                        24458\n",
       "shipping_zip_code                                   26996\n",
       "job_name                                            30543\n",
       "external_data_provider_first_name                   31183\n",
       "application_time_applied                            33560\n",
       "reported_income                                     37368\n",
       "income                                              38849\n",
       "score_5                                             41741\n",
       "profile_phone_number                                41741\n",
       "score_4                                             41741\n",
       "score_6                                             41741\n",
       "ids                                                 41741\n",
       "dtype: int64"
      ]
     },
     "execution_count": 10,
     "metadata": {},
     "output_type": "execute_result"
    }
   ],
   "source": [
    "# PRINT NUMBER OF UNIQUE ENTRIES\n",
    "df.nunique().sort_values()"
   ]
  },
  {
   "cell_type": "markdown",
   "id": "a1274456",
   "metadata": {},
   "source": [
    "As it can be seen, the independent features channel and external_data_provider_credit_checks_last_2_year have only one value. \n",
    "The entries are same for all clients, hence not useful fot the project, we drop the two features"
   ]
  },
  {
   "cell_type": "code",
   "execution_count": 11,
   "id": "88233b29",
   "metadata": {},
   "outputs": [],
   "source": [
    "# DROP channel AND external_data_provider_credit_checks_last_2_year\n",
    "df.drop(labels=['channel', 'external_data_provider_credit_checks_last_2_year'], axis=1, inplace=True)"
   ]
  },
  {
   "cell_type": "markdown",
   "id": "75bab065",
   "metadata": {},
   "source": [
    "To make the data as adequate to the problem as possible, we drop some additional columns that are not adding value to the model."
   ]
  },
  {
   "cell_type": "code",
   "execution_count": 12,
   "id": "5c20bbc8",
   "metadata": {},
   "outputs": [],
   "source": [
    "df.drop(labels=['email', 'reason', 'zip', 'job_name', 'external_data_provider_first_name', 'lat_lon',\n",
    "                       'shipping_zip_code', 'user_agent', 'profile_tags', 'marketing_channel',\n",
    "                       'profile_phone_number', 'application_time_applied', 'ids'], axis=1, inplace=True)"
   ]
  },
  {
   "cell_type": "markdown",
   "id": "e238d1f6",
   "metadata": {},
   "source": [
    "## Outlier analysis"
   ]
  },
  {
   "cell_type": "code",
   "execution_count": 13,
   "id": "2e97b869",
   "metadata": {},
   "outputs": [
    {
     "data": {
      "text/html": [
       "<div>\n",
       "<style scoped>\n",
       "    .dataframe tbody tr th:only-of-type {\n",
       "        vertical-align: middle;\n",
       "    }\n",
       "\n",
       "    .dataframe tbody tr th {\n",
       "        vertical-align: top;\n",
       "    }\n",
       "\n",
       "    .dataframe thead th {\n",
       "        text-align: right;\n",
       "    }\n",
       "</style>\n",
       "<table border=\"1\" class=\"dataframe\">\n",
       "  <thead>\n",
       "    <tr style=\"text-align: right;\">\n",
       "      <th></th>\n",
       "      <th>score_3</th>\n",
       "      <th>score_4</th>\n",
       "      <th>score_5</th>\n",
       "      <th>score_6</th>\n",
       "      <th>risk_rate</th>\n",
       "      <th>last_amount_borrowed</th>\n",
       "      <th>last_borrowed_in_months</th>\n",
       "      <th>credit_limit</th>\n",
       "      <th>income</th>\n",
       "      <th>ok_since</th>\n",
       "      <th>n_bankruptcies</th>\n",
       "      <th>n_defaulted_loans</th>\n",
       "      <th>n_accounts</th>\n",
       "      <th>n_issues</th>\n",
       "      <th>application_time_in_funnel</th>\n",
       "      <th>external_data_provider_credit_checks_last_month</th>\n",
       "      <th>external_data_provider_credit_checks_last_year</th>\n",
       "      <th>external_data_provider_email_seen_before</th>\n",
       "      <th>external_data_provider_fraud_score</th>\n",
       "      <th>reported_income</th>\n",
       "    </tr>\n",
       "  </thead>\n",
       "  <tbody>\n",
       "    <tr>\n",
       "      <th>count</th>\n",
       "      <td>41741.000000</td>\n",
       "      <td>41741.000000</td>\n",
       "      <td>41741.000000</td>\n",
       "      <td>41741.000000</td>\n",
       "      <td>41741.000000</td>\n",
       "      <td>14133.000000</td>\n",
       "      <td>14133.000000</td>\n",
       "      <td>28632.000000</td>\n",
       "      <td>4.174100e+04</td>\n",
       "      <td>17276.000000</td>\n",
       "      <td>41606.000000</td>\n",
       "      <td>41729.000000</td>\n",
       "      <td>41741.000000</td>\n",
       "      <td>30818.000000</td>\n",
       "      <td>41741.000000</td>\n",
       "      <td>41741.000000</td>\n",
       "      <td>27720.000000</td>\n",
       "      <td>39656.000000</td>\n",
       "      <td>41741.000000</td>\n",
       "      <td>41741.0</td>\n",
       "    </tr>\n",
       "    <tr>\n",
       "      <th>mean</th>\n",
       "      <td>346.459836</td>\n",
       "      <td>100.006820</td>\n",
       "      <td>0.499416</td>\n",
       "      <td>99.919399</td>\n",
       "      <td>0.294451</td>\n",
       "      <td>13328.104095</td>\n",
       "      <td>40.588410</td>\n",
       "      <td>33877.220453</td>\n",
       "      <td>7.108012e+04</td>\n",
       "      <td>35.192174</td>\n",
       "      <td>0.076696</td>\n",
       "      <td>0.004625</td>\n",
       "      <td>10.639108</td>\n",
       "      <td>11.023882</td>\n",
       "      <td>247.748545</td>\n",
       "      <td>1.504396</td>\n",
       "      <td>0.504185</td>\n",
       "      <td>12.731188</td>\n",
       "      <td>500.491771</td>\n",
       "      <td>inf</td>\n",
       "    </tr>\n",
       "    <tr>\n",
       "      <th>std</th>\n",
       "      <td>110.102271</td>\n",
       "      <td>3.183821</td>\n",
       "      <td>0.288085</td>\n",
       "      <td>10.022703</td>\n",
       "      <td>0.101561</td>\n",
       "      <td>7918.698433</td>\n",
       "      <td>9.437936</td>\n",
       "      <td>36141.985884</td>\n",
       "      <td>5.225978e+04</td>\n",
       "      <td>21.629577</td>\n",
       "      <td>0.274820</td>\n",
       "      <td>0.080157</td>\n",
       "      <td>4.588175</td>\n",
       "      <td>4.596036</td>\n",
       "      <td>146.326172</td>\n",
       "      <td>1.114207</td>\n",
       "      <td>0.499992</td>\n",
       "      <td>125.711218</td>\n",
       "      <td>287.993121</td>\n",
       "      <td>NaN</td>\n",
       "    </tr>\n",
       "    <tr>\n",
       "      <th>min</th>\n",
       "      <td>0.000000</td>\n",
       "      <td>86.191572</td>\n",
       "      <td>0.000035</td>\n",
       "      <td>60.663039</td>\n",
       "      <td>0.000000</td>\n",
       "      <td>1005.180000</td>\n",
       "      <td>36.000000</td>\n",
       "      <td>0.000000</td>\n",
       "      <td>4.821180e+03</td>\n",
       "      <td>0.000000</td>\n",
       "      <td>0.000000</td>\n",
       "      <td>0.000000</td>\n",
       "      <td>0.000000</td>\n",
       "      <td>0.000000</td>\n",
       "      <td>0.000000</td>\n",
       "      <td>0.000000</td>\n",
       "      <td>0.000000</td>\n",
       "      <td>-999.000000</td>\n",
       "      <td>0.000000</td>\n",
       "      <td>403.0</td>\n",
       "    </tr>\n",
       "    <tr>\n",
       "      <th>25%</th>\n",
       "      <td>270.000000</td>\n",
       "      <td>97.862546</td>\n",
       "      <td>0.251595</td>\n",
       "      <td>93.182517</td>\n",
       "      <td>0.220000</td>\n",
       "      <td>7210.280000</td>\n",
       "      <td>36.000000</td>\n",
       "      <td>9975.000000</td>\n",
       "      <td>4.401958e+04</td>\n",
       "      <td>17.000000</td>\n",
       "      <td>0.000000</td>\n",
       "      <td>0.000000</td>\n",
       "      <td>7.000000</td>\n",
       "      <td>8.000000</td>\n",
       "      <td>120.000000</td>\n",
       "      <td>1.000000</td>\n",
       "      <td>0.000000</td>\n",
       "      <td>11.000000</td>\n",
       "      <td>252.000000</td>\n",
       "      <td>50910.0</td>\n",
       "    </tr>\n",
       "    <tr>\n",
       "      <th>50%</th>\n",
       "      <td>340.000000</td>\n",
       "      <td>100.017950</td>\n",
       "      <td>0.500174</td>\n",
       "      <td>99.977774</td>\n",
       "      <td>0.290000</td>\n",
       "      <td>12011.050000</td>\n",
       "      <td>36.000000</td>\n",
       "      <td>25213.000000</td>\n",
       "      <td>6.004409e+04</td>\n",
       "      <td>32.000000</td>\n",
       "      <td>0.000000</td>\n",
       "      <td>0.000000</td>\n",
       "      <td>10.000000</td>\n",
       "      <td>10.000000</td>\n",
       "      <td>248.000000</td>\n",
       "      <td>2.000000</td>\n",
       "      <td>1.000000</td>\n",
       "      <td>27.000000</td>\n",
       "      <td>502.000000</td>\n",
       "      <td>101623.0</td>\n",
       "    </tr>\n",
       "    <tr>\n",
       "      <th>75%</th>\n",
       "      <td>420.000000</td>\n",
       "      <td>102.143100</td>\n",
       "      <td>0.747630</td>\n",
       "      <td>106.630991</td>\n",
       "      <td>0.360000</td>\n",
       "      <td>18030.160000</td>\n",
       "      <td>36.000000</td>\n",
       "      <td>46492.500000</td>\n",
       "      <td>8.503289e+04</td>\n",
       "      <td>50.000000</td>\n",
       "      <td>0.000000</td>\n",
       "      <td>0.000000</td>\n",
       "      <td>13.000000</td>\n",
       "      <td>14.000000</td>\n",
       "      <td>375.000000</td>\n",
       "      <td>2.000000</td>\n",
       "      <td>1.000000</td>\n",
       "      <td>43.000000</td>\n",
       "      <td>747.000000</td>\n",
       "      <td>151248.0</td>\n",
       "    </tr>\n",
       "    <tr>\n",
       "      <th>max</th>\n",
       "      <td>990.000000</td>\n",
       "      <td>113.978234</td>\n",
       "      <td>0.999973</td>\n",
       "      <td>142.192400</td>\n",
       "      <td>0.900000</td>\n",
       "      <td>35059.600000</td>\n",
       "      <td>60.000000</td>\n",
       "      <td>448269.000000</td>\n",
       "      <td>5.000028e+06</td>\n",
       "      <td>141.000000</td>\n",
       "      <td>5.000000</td>\n",
       "      <td>5.000000</td>\n",
       "      <td>49.000000</td>\n",
       "      <td>49.000000</td>\n",
       "      <td>500.000000</td>\n",
       "      <td>3.000000</td>\n",
       "      <td>1.000000</td>\n",
       "      <td>59.000000</td>\n",
       "      <td>1000.000000</td>\n",
       "      <td>inf</td>\n",
       "    </tr>\n",
       "  </tbody>\n",
       "</table>\n",
       "</div>"
      ],
      "text/plain": [
       "            score_3       score_4       score_5       score_6     risk_rate  \\\n",
       "count  41741.000000  41741.000000  41741.000000  41741.000000  41741.000000   \n",
       "mean     346.459836    100.006820      0.499416     99.919399      0.294451   \n",
       "std      110.102271      3.183821      0.288085     10.022703      0.101561   \n",
       "min        0.000000     86.191572      0.000035     60.663039      0.000000   \n",
       "25%      270.000000     97.862546      0.251595     93.182517      0.220000   \n",
       "50%      340.000000    100.017950      0.500174     99.977774      0.290000   \n",
       "75%      420.000000    102.143100      0.747630    106.630991      0.360000   \n",
       "max      990.000000    113.978234      0.999973    142.192400      0.900000   \n",
       "\n",
       "       last_amount_borrowed  last_borrowed_in_months   credit_limit  \\\n",
       "count          14133.000000             14133.000000   28632.000000   \n",
       "mean           13328.104095                40.588410   33877.220453   \n",
       "std             7918.698433                 9.437936   36141.985884   \n",
       "min             1005.180000                36.000000       0.000000   \n",
       "25%             7210.280000                36.000000    9975.000000   \n",
       "50%            12011.050000                36.000000   25213.000000   \n",
       "75%            18030.160000                36.000000   46492.500000   \n",
       "max            35059.600000                60.000000  448269.000000   \n",
       "\n",
       "             income      ok_since  n_bankruptcies  n_defaulted_loans  \\\n",
       "count  4.174100e+04  17276.000000    41606.000000       41729.000000   \n",
       "mean   7.108012e+04     35.192174        0.076696           0.004625   \n",
       "std    5.225978e+04     21.629577        0.274820           0.080157   \n",
       "min    4.821180e+03      0.000000        0.000000           0.000000   \n",
       "25%    4.401958e+04     17.000000        0.000000           0.000000   \n",
       "50%    6.004409e+04     32.000000        0.000000           0.000000   \n",
       "75%    8.503289e+04     50.000000        0.000000           0.000000   \n",
       "max    5.000028e+06    141.000000        5.000000           5.000000   \n",
       "\n",
       "         n_accounts      n_issues  application_time_in_funnel  \\\n",
       "count  41741.000000  30818.000000                41741.000000   \n",
       "mean      10.639108     11.023882                  247.748545   \n",
       "std        4.588175      4.596036                  146.326172   \n",
       "min        0.000000      0.000000                    0.000000   \n",
       "25%        7.000000      8.000000                  120.000000   \n",
       "50%       10.000000     10.000000                  248.000000   \n",
       "75%       13.000000     14.000000                  375.000000   \n",
       "max       49.000000     49.000000                  500.000000   \n",
       "\n",
       "       external_data_provider_credit_checks_last_month  \\\n",
       "count                                     41741.000000   \n",
       "mean                                          1.504396   \n",
       "std                                           1.114207   \n",
       "min                                           0.000000   \n",
       "25%                                           1.000000   \n",
       "50%                                           2.000000   \n",
       "75%                                           2.000000   \n",
       "max                                           3.000000   \n",
       "\n",
       "       external_data_provider_credit_checks_last_year  \\\n",
       "count                                    27720.000000   \n",
       "mean                                         0.504185   \n",
       "std                                          0.499992   \n",
       "min                                          0.000000   \n",
       "25%                                          0.000000   \n",
       "50%                                          1.000000   \n",
       "75%                                          1.000000   \n",
       "max                                          1.000000   \n",
       "\n",
       "       external_data_provider_email_seen_before  \\\n",
       "count                              39656.000000   \n",
       "mean                                  12.731188   \n",
       "std                                  125.711218   \n",
       "min                                 -999.000000   \n",
       "25%                                   11.000000   \n",
       "50%                                   27.000000   \n",
       "75%                                   43.000000   \n",
       "max                                   59.000000   \n",
       "\n",
       "       external_data_provider_fraud_score  reported_income  \n",
       "count                        41741.000000          41741.0  \n",
       "mean                           500.491771              inf  \n",
       "std                            287.993121              NaN  \n",
       "min                              0.000000            403.0  \n",
       "25%                            252.000000          50910.0  \n",
       "50%                            502.000000         101623.0  \n",
       "75%                            747.000000         151248.0  \n",
       "max                           1000.000000              inf  "
      ]
     },
     "execution_count": 13,
     "metadata": {},
     "output_type": "execute_result"
    }
   ],
   "source": [
    "# PRINT DESCRIPTIVE STATISTIC\n",
    "df.describe()"
   ]
  },
  {
   "cell_type": "code",
   "execution_count": 44,
   "id": "e831401b",
   "metadata": {},
   "outputs": [
    {
     "data": {
      "text/plain": [
       "66"
      ]
     },
     "execution_count": 44,
     "metadata": {},
     "output_type": "execute_result"
    }
   ],
   "source": [
    "# COUNT OCCURENCES OF 'f'ENTRIES IN \"reported_income\"\n",
    "np.isinf(df['reported_income']).sum()"
   ]
  },
  {
   "cell_type": "code",
   "execution_count": 14,
   "id": "bd6ffd28",
   "metadata": {},
   "outputs": [
    {
     "data": {
      "text/plain": [
       "-999.0    591\n",
       "Name: external_data_provider_email_seen_before, dtype: int64"
      ]
     },
     "execution_count": 14,
     "metadata": {},
     "output_type": "execute_result"
    }
   ],
   "source": [
    "# COUNT OCCURENCES OF -999 IN 'external_data_provider_email_seen_before'\n",
    "df.loc[df['external_data_provider_email_seen_before'] == -999, 'external_data_provider_email_seen_before'].value_counts()"
   ]
  },
  {
   "cell_type": "markdown",
   "id": "1d797990",
   "metadata": {},
   "source": [
    "From the statistic above, its observed that reported_income has 66 'inf' values, external_data_provider_email_seen_before has 591 -999 values.\n",
    "We replace these values with NaN, to aid plotting histograms for visualizizing the distributions."
   ]
  },
  {
   "cell_type": "code",
   "execution_count": 15,
   "id": "e6e34567",
   "metadata": {},
   "outputs": [],
   "source": [
    "# REPLACE EACH OCCURENCE OF 'inf' WITH 'nan'\n",
    "df['reported_income'] = df['reported_income'].replace(np.inf, np.nan)\n",
    "\n",
    "# REPLCE EACH OCCURENCE OF ''-999' WITH 'nan'\n",
    "df.loc[df['external_data_provider_email_seen_before'] == -999, 'external_data_provider_email_seen_before'] = np.nan"
   ]
  },
  {
   "cell_type": "markdown",
   "id": "12c98295",
   "metadata": {},
   "source": [
    "Create a dataframe consisting of only numerical features, Their histogram  helps us examine the properties of distributions"
   ]
  },
  {
   "cell_type": "code",
   "execution_count": 16,
   "id": "a0e585a4",
   "metadata": {},
   "outputs": [],
   "source": [
    "# NUMERICAL DATAFRAME\n",
    "df_numerical = df[['score_3', 'risk_rate', 'last_amount_borrowed', \n",
    "                                 'last_borrowed_in_months', 'credit_limit', 'income', 'ok_since', \n",
    "                                 'n_bankruptcies', 'n_defaulted_loans', 'n_accounts', 'n_issues', \n",
    "                                 'external_data_provider_email_seen_before']]"
   ]
  },
  {
   "cell_type": "code",
   "execution_count": 17,
   "id": "35d532f5",
   "metadata": {},
   "outputs": [
    {
     "data": {
      "image/png": "[encoded data removed]",
      "text/plain": [
       "<Figure size 1800x1152 with 12 Axes>"
      ]
     },
     "metadata": {
      "needs_background": "light"
     },
     "output_type": "display_data"
    }
   ],
   "source": [
    "# HISTOGRAM FOR NUMERICAL FEATURES\n",
    "\n",
    "nrows = 3\n",
    "ncols = 4\n",
    "\n",
    "fig, ax = plt.subplots(nrows=nrows, ncols=ncols, figsize=(25, 16))\n",
    "\n",
    "r = 0\n",
    "c = 0\n",
    "\n",
    "for i in df_numerical:\n",
    "    sns.distplot(df_numerical[i], bins=15,kde=False, ax=ax[r][c])\n",
    "    if c == ncols - 1:\n",
    "        r += 1\n",
    "        c = 0\n",
    "        \n",
    "    else:\n",
    "        c += 1\n",
    "\n",
    "plt.show()"
   ]
  },
  {
   "cell_type": "markdown",
   "id": "6b35c246",
   "metadata": {},
   "source": [
    "From the distribution plots, its revealed that the numerical features have missing values that need to be treated.They skewed distribution, indicates that we need to impute the missing values with the median value for each feature.\n",
    "\n",
    "We perfor imputation according to the following:\n",
    "\n",
    "*   Categorical variables are filled with the most recurrent value (median).\n",
    "*   Numerical variables are filled with their median values.\n",
    "*   In cases of 'last_amount_borrowed', 'last_borrowed_in_months' and 'n_issues' missing values are filled with 0, because its valid to hypothesize that not every client would have values assigned to these variables."
   ]
  },
  {
   "cell_type": "code",
   "execution_count": 18,
   "id": "f448d040",
   "metadata": {},
   "outputs": [],
   "source": [
    "df_num = df.select_dtypes(exclude='object').columns\n",
    "df_cat = df.select_dtypes(include='object').columns\n",
    "\n",
    "# IMPUTE 'last_amount_borrowed', 'last_borrowed_in_months' AND 'n_issues'\n",
    "df['last_amount_borrowed'].fillna(value=0, inplace=True)\n",
    "df['last_borrowed_in_months'].fillna(value=0, inplace=True)\n",
    "df['n_issues'].fillna(value=0, inplace=True)\n",
    "\n",
    "# PERFORM IMPUTATION FOR NUMERICAL FEATURES\n",
    "imputer = SimpleImputer(missing_values=np.nan, strategy='median')\n",
    "imputer = imputer.fit(df.loc[:, df_num])\n",
    "df.loc[:, df_num] = imputer.transform(df.loc[:, df_num])\n",
    "\n",
    "# IMPUTATION FOR NORMINAL FEATURES\n",
    "imputer = SimpleImputer(missing_values=np.nan, strategy='most_frequent')\n",
    "imputer = imputer.fit(df.loc[:, df_cat])\n",
    "df.loc[:, df_cat] = imputer.transform(df.loc[:, df_cat])"
   ]
  },
  {
   "cell_type": "code",
   "execution_count": 19,
   "id": "dfbbfe8c",
   "metadata": {},
   "outputs": [
    {
     "data": {
      "text/plain": [
       "target_default                                     0\n",
       "score_1                                            0\n",
       "score_2                                            0\n",
       "score_3                                            0\n",
       "score_4                                            0\n",
       "score_5                                            0\n",
       "score_6                                            0\n",
       "risk_rate                                          0\n",
       "last_amount_borrowed                               0\n",
       "last_borrowed_in_months                            0\n",
       "credit_limit                                       0\n",
       "income                                             0\n",
       "facebook_profile                                   0\n",
       "state                                              0\n",
       "real_state                                         0\n",
       "ok_since                                           0\n",
       "n_bankruptcies                                     0\n",
       "n_defaulted_loans                                  0\n",
       "n_accounts                                         0\n",
       "n_issues                                           0\n",
       "application_time_in_funnel                         0\n",
       "external_data_provider_credit_checks_last_month    0\n",
       "external_data_provider_credit_checks_last_year     0\n",
       "external_data_provider_email_seen_before           0\n",
       "external_data_provider_fraud_score                 0\n",
       "reported_income                                    0\n",
       "shipping_state                                     0\n",
       "dtype: int64"
      ]
     },
     "execution_count": 19,
     "metadata": {},
     "output_type": "execute_result"
    }
   ],
   "source": [
    "df.isnull().sum()"
   ]
  },
  {
   "cell_type": "markdown",
   "id": "8b42d0f2",
   "metadata": {},
   "source": [
    "We now have a  clean data set\n",
    "\n",
    "Data preprocessing, invlves converting categorical features into numerical values. Sklearn 'LabelEncoder' is used for the binary features while pandas 'get_dummies' is used for the other multiclass categorical features."
   ]
  },
  {
   "cell_type": "code",
   "execution_count": 20,
   "id": "c1d026e8",
   "metadata": {},
   "outputs": [
    {
     "data": {
      "text/html": [
       "<div>\n",
       "<style scoped>\n",
       "    .dataframe tbody tr th:only-of-type {\n",
       "        vertical-align: middle;\n",
       "    }\n",
       "\n",
       "    .dataframe tbody tr th {\n",
       "        vertical-align: top;\n",
       "    }\n",
       "\n",
       "    .dataframe thead th {\n",
       "        text-align: right;\n",
       "    }\n",
       "</style>\n",
       "<table border=\"1\" class=\"dataframe\">\n",
       "  <thead>\n",
       "    <tr style=\"text-align: right;\">\n",
       "      <th></th>\n",
       "      <th>target_default</th>\n",
       "      <th>score_3</th>\n",
       "      <th>score_4</th>\n",
       "      <th>score_5</th>\n",
       "      <th>score_6</th>\n",
       "      <th>risk_rate</th>\n",
       "      <th>last_amount_borrowed</th>\n",
       "      <th>last_borrowed_in_months</th>\n",
       "      <th>credit_limit</th>\n",
       "      <th>income</th>\n",
       "      <th>...</th>\n",
       "      <th>shipping_state_BR-PE</th>\n",
       "      <th>shipping_state_BR-PR</th>\n",
       "      <th>shipping_state_BR-RN</th>\n",
       "      <th>shipping_state_BR-RO</th>\n",
       "      <th>shipping_state_BR-RR</th>\n",
       "      <th>shipping_state_BR-RS</th>\n",
       "      <th>shipping_state_BR-SC</th>\n",
       "      <th>shipping_state_BR-SE</th>\n",
       "      <th>shipping_state_BR-SP</th>\n",
       "      <th>shipping_state_BR-TO</th>\n",
       "    </tr>\n",
       "  </thead>\n",
       "  <tbody>\n",
       "    <tr>\n",
       "      <th>0</th>\n",
       "      <td>0</td>\n",
       "      <td>350.0</td>\n",
       "      <td>101.800832</td>\n",
       "      <td>0.259555</td>\n",
       "      <td>108.427273</td>\n",
       "      <td>0.40</td>\n",
       "      <td>25033.92</td>\n",
       "      <td>36.0</td>\n",
       "      <td>0.0</td>\n",
       "      <td>65014.12</td>\n",
       "      <td>...</td>\n",
       "      <td>0</td>\n",
       "      <td>0</td>\n",
       "      <td>0</td>\n",
       "      <td>0</td>\n",
       "      <td>0</td>\n",
       "      <td>0</td>\n",
       "      <td>0</td>\n",
       "      <td>0</td>\n",
       "      <td>0</td>\n",
       "      <td>0</td>\n",
       "    </tr>\n",
       "    <tr>\n",
       "      <th>1</th>\n",
       "      <td>0</td>\n",
       "      <td>370.0</td>\n",
       "      <td>97.062615</td>\n",
       "      <td>0.942655</td>\n",
       "      <td>92.002546</td>\n",
       "      <td>0.24</td>\n",
       "      <td>0.00</td>\n",
       "      <td>0.0</td>\n",
       "      <td>39726.0</td>\n",
       "      <td>100018.91</td>\n",
       "      <td>...</td>\n",
       "      <td>0</td>\n",
       "      <td>0</td>\n",
       "      <td>0</td>\n",
       "      <td>0</td>\n",
       "      <td>0</td>\n",
       "      <td>1</td>\n",
       "      <td>0</td>\n",
       "      <td>0</td>\n",
       "      <td>0</td>\n",
       "      <td>0</td>\n",
       "    </tr>\n",
       "    <tr>\n",
       "      <th>2</th>\n",
       "      <td>1</td>\n",
       "      <td>360.0</td>\n",
       "      <td>100.027073</td>\n",
       "      <td>0.351918</td>\n",
       "      <td>112.892453</td>\n",
       "      <td>0.29</td>\n",
       "      <td>7207.92</td>\n",
       "      <td>36.0</td>\n",
       "      <td>25213.0</td>\n",
       "      <td>65023.65</td>\n",
       "      <td>...</td>\n",
       "      <td>0</td>\n",
       "      <td>0</td>\n",
       "      <td>0</td>\n",
       "      <td>0</td>\n",
       "      <td>1</td>\n",
       "      <td>0</td>\n",
       "      <td>0</td>\n",
       "      <td>0</td>\n",
       "      <td>0</td>\n",
       "      <td>0</td>\n",
       "    </tr>\n",
       "    <tr>\n",
       "      <th>3</th>\n",
       "      <td>0</td>\n",
       "      <td>510.0</td>\n",
       "      <td>101.599485</td>\n",
       "      <td>0.987673</td>\n",
       "      <td>94.902491</td>\n",
       "      <td>0.32</td>\n",
       "      <td>0.00</td>\n",
       "      <td>0.0</td>\n",
       "      <td>54591.0</td>\n",
       "      <td>68830.01</td>\n",
       "      <td>...</td>\n",
       "      <td>0</td>\n",
       "      <td>0</td>\n",
       "      <td>1</td>\n",
       "      <td>0</td>\n",
       "      <td>0</td>\n",
       "      <td>0</td>\n",
       "      <td>0</td>\n",
       "      <td>0</td>\n",
       "      <td>0</td>\n",
       "      <td>0</td>\n",
       "    </tr>\n",
       "    <tr>\n",
       "      <th>4</th>\n",
       "      <td>0</td>\n",
       "      <td>500.0</td>\n",
       "      <td>98.474289</td>\n",
       "      <td>0.532539</td>\n",
       "      <td>118.126207</td>\n",
       "      <td>0.18</td>\n",
       "      <td>0.00</td>\n",
       "      <td>0.0</td>\n",
       "      <td>25213.0</td>\n",
       "      <td>60011.29</td>\n",
       "      <td>...</td>\n",
       "      <td>0</td>\n",
       "      <td>0</td>\n",
       "      <td>0</td>\n",
       "      <td>0</td>\n",
       "      <td>0</td>\n",
       "      <td>0</td>\n",
       "      <td>0</td>\n",
       "      <td>0</td>\n",
       "      <td>0</td>\n",
       "      <td>0</td>\n",
       "    </tr>\n",
       "  </tbody>\n",
       "</table>\n",
       "<p>5 rows × 144 columns</p>\n",
       "</div>"
      ],
      "text/plain": [
       "   target_default  score_3     score_4   score_5     score_6  risk_rate  \\\n",
       "0               0    350.0  101.800832  0.259555  108.427273       0.40   \n",
       "1               0    370.0   97.062615  0.942655   92.002546       0.24   \n",
       "2               1    360.0  100.027073  0.351918  112.892453       0.29   \n",
       "3               0    510.0  101.599485  0.987673   94.902491       0.32   \n",
       "4               0    500.0   98.474289  0.532539  118.126207       0.18   \n",
       "\n",
       "   last_amount_borrowed  last_borrowed_in_months  credit_limit     income  \\\n",
       "0              25033.92                     36.0           0.0   65014.12   \n",
       "1                  0.00                      0.0       39726.0  100018.91   \n",
       "2               7207.92                     36.0       25213.0   65023.65   \n",
       "3                  0.00                      0.0       54591.0   68830.01   \n",
       "4                  0.00                      0.0       25213.0   60011.29   \n",
       "\n",
       "   ...  shipping_state_BR-PE  shipping_state_BR-PR  shipping_state_BR-RN  \\\n",
       "0  ...                     0                     0                     0   \n",
       "1  ...                     0                     0                     0   \n",
       "2  ...                     0                     0                     0   \n",
       "3  ...                     0                     0                     1   \n",
       "4  ...                     0                     0                     0   \n",
       "\n",
       "   shipping_state_BR-RO  shipping_state_BR-RR  shipping_state_BR-RS  \\\n",
       "0                     0                     0                     0   \n",
       "1                     0                     0                     1   \n",
       "2                     0                     1                     0   \n",
       "3                     0                     0                     0   \n",
       "4                     0                     0                     0   \n",
       "\n",
       "   shipping_state_BR-SC  shipping_state_BR-SE  shipping_state_BR-SP  \\\n",
       "0                     0                     0                     0   \n",
       "1                     0                     0                     0   \n",
       "2                     0                     0                     0   \n",
       "3                     0                     0                     0   \n",
       "4                     0                     0                     0   \n",
       "\n",
       "   shipping_state_BR-TO  \n",
       "0                     0  \n",
       "1                     0  \n",
       "2                     0  \n",
       "3                     0  \n",
       "4                     0  \n",
       "\n",
       "[5 rows x 144 columns]"
      ]
     },
     "execution_count": 20,
     "metadata": {},
     "output_type": "execute_result"
    }
   ],
   "source": [
    "bin_var = df.nunique()[df.nunique() == 2].keys().tolist()\n",
    "num_var = [col for col in df.select_dtypes(['int', 'float']).columns.tolist() if col not in bin_var]\n",
    "cat_var = [col for col in df.select_dtypes(['object']).columns.tolist() if col not in bin_var]\n",
    "\n",
    "df_encoded = df.copy()\n",
    "\n",
    "# LABEL ENCODING\n",
    "le = LabelEncoder()\n",
    "for col in bin_var:\n",
    "    df_encoded[col] = le.fit_transform(df_encoded[col])\n",
    "\n",
    "# CREATING DUMMY VARIABLES\n",
    "df_encoded = pd.get_dummies(df_encoded, columns=cat_var)\n",
    "\n",
    "df_encoded.head()"
   ]
  },
  {
   "cell_type": "markdown",
   "id": "c7b78ce0",
   "metadata": {},
   "source": [
    "After encoding we get 144 columns of features"
   ]
  },
  {
   "cell_type": "markdown",
   "id": "a7b8c29c",
   "metadata": {},
   "source": [
    "## Machine Learning Models\n",
    "\n",
    "We are experimenting with the following 2 boosting algorithms and one ensembe algorithm to determine which one yields better results:\n",
    "\n",
    "\n",
    "*   XGBoost\n",
    "*   LightGBM\n",
    "*   RandomForestClassifier"
   ]
  },
  {
   "cell_type": "code",
   "execution_count": 21,
   "id": "89c7058d",
   "metadata": {},
   "outputs": [],
   "source": [
    "# EXTRACT X (independent) AND y (dependent) FEATURES\n",
    "X = df_encoded.drop('target_default', axis=1)\n",
    "y = df_encoded['target_default']\n",
    "\n",
    "# SPLIT THE DATA INTO TRAIN AND TEST SETS\n",
    "X_train, X_test, y_train, y_test = train_test_split(X, y, shuffle=True, stratify=y)"
   ]
  },
  {
   "cell_type": "code",
   "execution_count": 22,
   "id": "098502dc",
   "metadata": {},
   "outputs": [
    {
     "data": {
      "text/plain": [
       "Index(['score_3', 'score_4', 'score_5', 'score_6', 'risk_rate',\n",
       "       'last_amount_borrowed', 'last_borrowed_in_months', 'credit_limit',\n",
       "       'income', 'facebook_profile', 'ok_since', 'n_bankruptcies',\n",
       "       'n_defaulted_loans', 'n_accounts', 'n_issues',\n",
       "       'application_time_in_funnel',\n",
       "       'external_data_provider_credit_checks_last_month',\n",
       "       'external_data_provider_credit_checks_last_year',\n",
       "       'external_data_provider_email_seen_before',\n",
       "       'external_data_provider_fraud_score'],\n",
       "      dtype='object')"
      ]
     },
     "execution_count": 22,
     "metadata": {},
     "output_type": "execute_result"
    }
   ],
   "source": [
    "X.columns[:20]"
   ]
  },
  {
   "cell_type": "code",
   "execution_count": 23,
   "id": "cd2be76f",
   "metadata": {},
   "outputs": [],
   "source": [
    "# STANDARDIZ NUMERICAL FEATURES - faster traning and better performance\n",
    "scaler = StandardScaler().fit(X_train)\n",
    "X_train = scaler.transform(X_train)\n",
    "\n",
    "# PERFORM RESAMPLING - to balance the dataset\n",
    "rus = RandomUnderSampler()\n",
    "X_train_rus, y_train_rus = rus.fit_resample(X_train, y_train)"
   ]
  },
  {
   "cell_type": "markdown",
   "id": "3255197e",
   "metadata": {},
   "source": [
    "To evaluate the models 'Precision', 'Recall', and 'F1 Score' evalutation metricsare used.\n",
    "\n",
    "\n",
    "*   **Precision** gives the proportion of positive identifications that were indeed correct."
   ]
  },
  {
   "cell_type": "markdown",
   "id": "f9fd4f46",
   "metadata": {},
   "source": [
    "*   **Recall** determines the proportion of real positives that were \n",
    "correctly identified."
   ]
  },
  {
   "cell_type": "markdown",
   "id": "82db5168",
   "metadata": {},
   "source": [
    "*   **F1 Score** is a metric that is useful when we need to seek a balance between precision and recall."
   ]
  },
  {
   "cell_type": "markdown",
   "id": "fc9fbca8",
   "metadata": {},
   "source": [
    "Cross-Validation is used to attain better results."
   ]
  },
  {
   "cell_type": "code",
   "execution_count": 25,
   "id": "7a5efa92",
   "metadata": {},
   "outputs": [],
   "source": [
    "# DEFINE A FUNCTION FOR MODEL PIPELINE\n",
    "def val_model(X, y, clf, show=True):\n",
    "    \n",
    "    X = np.array(X)\n",
    "    y = np.array(y)\n",
    "\n",
    "    pipeline = make_pipeline(StandardScaler(), clf)\n",
    "    scores = cross_val_score(pipeline, X, y, scoring='recall')\n",
    "\n",
    "    if show == True:\n",
    "        print(f'Recall: {scores.mean()}, {scores.std()}')\n",
    "    \n",
    "    return scores.mean()"
   ]
  },
  {
   "cell_type": "markdown",
   "id": "4419b03f",
   "metadata": {},
   "source": [
    "### Training the classifiers with default parameters"
   ]
  },
  {
   "cell_type": "code",
   "execution_count": 26,
   "id": "1730fe90",
   "metadata": {},
   "outputs": [
    {
     "name": "stdout",
     "output_type": "stream",
     "text": [
      "[14:38:39] WARNING: C:/Users/Administrator/workspace/xgboost-win64_release_1.5.1/src/learner.cc:1115: Starting in XGBoost 1.3.0, the default evaluation metric used with the objective 'binary:logistic' was changed from 'error' to 'logloss'. Explicitly set eval_metric if you'd like to restore the old behavior.\n",
      "[14:38:42] WARNING: C:/Users/Administrator/workspace/xgboost-win64_release_1.5.1/src/learner.cc:1115: Starting in XGBoost 1.3.0, the default evaluation metric used with the objective 'binary:logistic' was changed from 'error' to 'logloss'. Explicitly set eval_metric if you'd like to restore the old behavior.\n",
      "[14:38:46] WARNING: C:/Users/Administrator/workspace/xgboost-win64_release_1.5.1/src/learner.cc:1115: Starting in XGBoost 1.3.0, the default evaluation metric used with the objective 'binary:logistic' was changed from 'error' to 'logloss'. Explicitly set eval_metric if you'd like to restore the old behavior.\n",
      "[14:38:50] WARNING: C:/Users/Administrator/workspace/xgboost-win64_release_1.5.1/src/learner.cc:1115: Starting in XGBoost 1.3.0, the default evaluation metric used with the objective 'binary:logistic' was changed from 'error' to 'logloss'. Explicitly set eval_metric if you'd like to restore the old behavior.\n",
      "[14:38:54] WARNING: C:/Users/Administrator/workspace/xgboost-win64_release_1.5.1/src/learner.cc:1115: Starting in XGBoost 1.3.0, the default evaluation metric used with the objective 'binary:logistic' was changed from 'error' to 'logloss'. Explicitly set eval_metric if you'd like to restore the old behavior.\n"
     ]
    },
    {
     "data": {
      "text/html": [
       "<div>\n",
       "<style scoped>\n",
       "    .dataframe tbody tr th:only-of-type {\n",
       "        vertical-align: middle;\n",
       "    }\n",
       "\n",
       "    .dataframe tbody tr th {\n",
       "        vertical-align: top;\n",
       "    }\n",
       "\n",
       "    .dataframe thead th {\n",
       "        text-align: right;\n",
       "    }\n",
       "</style>\n",
       "<table border=\"1\" class=\"dataframe\">\n",
       "  <thead>\n",
       "    <tr style=\"text-align: right;\">\n",
       "      <th></th>\n",
       "      <th>Recall</th>\n",
       "    </tr>\n",
       "  </thead>\n",
       "  <tbody>\n",
       "    <tr>\n",
       "      <th>XGBClassifier</th>\n",
       "      <td>0.629704</td>\n",
       "    </tr>\n",
       "    <tr>\n",
       "      <th>LGBMClassifier</th>\n",
       "      <td>0.635310</td>\n",
       "    </tr>\n",
       "    <tr>\n",
       "      <th>RandomForestClassifier</th>\n",
       "      <td>0.642515</td>\n",
       "    </tr>\n",
       "  </tbody>\n",
       "</table>\n",
       "</div>"
      ],
      "text/plain": [
       "                          Recall\n",
       "XGBClassifier           0.629704\n",
       "LGBMClassifier          0.635310\n",
       "RandomForestClassifier  0.642515"
      ]
     },
     "execution_count": 26,
     "metadata": {},
     "output_type": "execute_result"
    }
   ],
   "source": [
    "# CREATE MODEL INSTANCES\n",
    "xgb = XGBClassifier()\n",
    "lgb = LGBMClassifier()\n",
    "rfc = RandomForestClassifier()\n",
    "\n",
    "model = []\n",
    "recall = []\n",
    "\n",
    "for clf in (xgb, lgb, rfc):\n",
    "    model.append(clf.__class__.__name__)\n",
    "    recall.append(val_model(X_train_rus, y_train_rus, clf, show=False))\n",
    "\n",
    "pd.DataFrame(data=recall, index=model, columns=['Recall'])"
   ]
  },
  {
   "cell_type": "markdown",
   "id": "0333934f",
   "metadata": {},
   "source": [
    "As it can be seen all models produced almost same results. We use Cross validation to improve the perforamance."
   ]
  },
  {
   "cell_type": "markdown",
   "id": "4571697e",
   "metadata": {},
   "source": [
    "### XGBoost"
   ]
  },
  {
   "cell_type": "code",
   "execution_count": 27,
   "id": "e12421ef",
   "metadata": {},
   "outputs": [
    {
     "name": "stdout",
     "output_type": "stream",
     "text": [
      "[14:54:42] WARNING: C:/Users/Administrator/workspace/xgboost-win64_release_1.5.1/src/learner.cc:1115: Starting in XGBoost 1.3.0, the default evaluation metric used with the objective 'binary:logistic' was changed from 'error' to 'logloss'. Explicitly set eval_metric if you'd like to restore the old behavior.\n",
      "Best result: 0.6309086998162629 for {'n_estimators': 50}\n"
     ]
    }
   ],
   "source": [
    "# XGBoost\n",
    "xgb = XGBClassifier()\n",
    "\n",
    "# PARAMETERS TO SEARCH FOR OPTIMALITY\n",
    "param_grid = {'n_estimators': range(0,1000,50)}\n",
    "  \n",
    "kfold = StratifiedKFold(n_splits=3, shuffle=True)\n",
    "grid_search = GridSearchCV(xgb, param_grid, scoring=\"recall\", n_jobs=-1, cv=kfold)\n",
    "grid_result = grid_search.fit(X_train_rus, y_train_rus)\n",
    "\n",
    "print(f'Best result: {grid_result.best_score_} for {grid_result.best_params_}')"
   ]
  },
  {
   "cell_type": "code",
   "execution_count": 28,
   "id": "caa1d8eb",
   "metadata": {},
   "outputs": [
    {
     "name": "stdout",
     "output_type": "stream",
     "text": [
      "[14:55:05] WARNING: C:/Users/Administrator/workspace/xgboost-win64_release_1.5.1/src/learner.cc:1115: Starting in XGBoost 1.3.0, the default evaluation metric used with the objective 'binary:logistic' was changed from 'error' to 'logloss'. Explicitly set eval_metric if you'd like to restore the old behavior.\n",
      "Best result: 0.652120788255242 for {'max_depth': 1, 'min_child_weight': 1}\n"
     ]
    }
   ],
   "source": [
    "# XGBoost\n",
    "xgb = XGBClassifier(n_estimators=50)\n",
    "\n",
    "# PARAMETERS TO SEARCH FOR OPTIMALITY\n",
    "param_grid = {'max_depth': [1, 3, 5],\n",
    "              'min_child_weight': [1, 3, 6]}\n",
    "\n",
    "kfold = StratifiedKFold(n_splits=3, shuffle=True)\n",
    "grid_search = GridSearchCV(xgb, param_grid, scoring=\"recall\", n_jobs=-1, cv=kfold)\n",
    "grid_result = grid_search.fit(X_train_rus, y_train_rus)\n",
    "\n",
    "print(f'Best result: {grid_result.best_score_} for {grid_result.best_params_}')"
   ]
  },
  {
   "cell_type": "code",
   "execution_count": 29,
   "id": "48eab899",
   "metadata": {},
   "outputs": [
    {
     "name": "stdout",
     "output_type": "stream",
     "text": [
      "[14:55:13] WARNING: C:/Users/Administrator/workspace/xgboost-win64_release_1.5.1/src/learner.cc:1115: Starting in XGBoost 1.3.0, the default evaluation metric used with the objective 'binary:logistic' was changed from 'error' to 'logloss'. Explicitly set eval_metric if you'd like to restore the old behavior.\n",
      "Best result: 0.6619292762149905 for {'gamma': 5}\n"
     ]
    }
   ],
   "source": [
    "# XGBoost\n",
    "xgb = XGBClassifier(n_estimators=50, max_depth=3, min_child_weight=6)\n",
    "\n",
    "# PARAMETERS TO SEARCH FOR OPTIMALITY\n",
    "param_grid = {'gamma': [0, 1, 5]}\n",
    "  \n",
    "kfold = StratifiedKFold(n_splits=3, shuffle=True)\n",
    "grid_search = GridSearchCV(xgb, param_grid, scoring=\"recall\", n_jobs=-1, cv=kfold)\n",
    "grid_result = grid_search.fit(X_train_rus, y_train_rus)\n",
    "\n",
    "print(f'Best result: {grid_result.best_score_} for {grid_result.best_params_}')"
   ]
  },
  {
   "cell_type": "code",
   "execution_count": 30,
   "id": "858de259",
   "metadata": {},
   "outputs": [
    {
     "name": "stdout",
     "output_type": "stream",
     "text": [
      "[14:55:23] WARNING: C:/Users/Administrator/workspace/xgboost-win64_release_1.5.1/src/learner.cc:1115: Starting in XGBoost 1.3.0, the default evaluation metric used with the objective 'binary:logistic' was changed from 'error' to 'logloss'. Explicitly set eval_metric if you'd like to restore the old behavior.\n",
      "Best result: 0.8176543890829605 for {'learning_rate': 0.0001}\n"
     ]
    }
   ],
   "source": [
    "# XGBoost\n",
    "xgb = XGBClassifier(n_estimators=50, max_depth=3, min_child_weight=6, gamma=1)\n",
    "\n",
    "# PARAMETERS TO SEARCH FOR OPTIMALITY\n",
    "param_grid = {'learning_rate': [0.0001, 0.001, 0.01, 0.1]}\n",
    "\n",
    "kfold = StratifiedKFold(n_splits=3, shuffle=True)\n",
    "grid_search = GridSearchCV(xgb, param_grid, scoring='recall', n_jobs=-1, cv=kfold)\n",
    "grid_result = grid_search.fit(X_train_rus, y_train_rus)\n",
    "\n",
    "print(f'Best result: {grid_result.best_score_} for {grid_result.best_params_}')"
   ]
  },
  {
   "cell_type": "markdown",
   "id": "6d7d2ffb",
   "metadata": {},
   "source": [
    "### LightGBM"
   ]
  },
  {
   "cell_type": "code",
   "execution_count": 31,
   "id": "ff001ba8",
   "metadata": {},
   "outputs": [
    {
     "name": "stdout",
     "output_type": "stream",
     "text": [
      "[LightGBM] [Info] Number of positive: 4996, number of negative: 4996\n",
      "[LightGBM] [Warning] Auto-choosing col-wise multi-threading, the overhead of testing was 0.007502 seconds.\n",
      "You can set `force_col_wise=true` to remove the overhead.\n",
      "[LightGBM] [Info] Total Bins 3003\n",
      "[LightGBM] [Info] Number of data points in the train set: 9992, number of used features: 131\n",
      "[LightGBM] [Info] [binary:BoostFromScore]: pavg=0.500000 -> initscore=0.000000\n",
      "Best result: 0.6991583420154849 for {'learning_rate': 0.001, 'max_depth': 15, 'num_leaves': 20}\n"
     ]
    }
   ],
   "source": [
    "# LightGBM\n",
    "lbg = LGBMClassifier(silent=False)\n",
    "\n",
    "# # PARAMETERS TO SEARCH FOR OPTIMALITY\n",
    "param_grid = {\"max_depth\": np.arange(5, 75, 10),\n",
    "              \"learning_rate\" : [0.001, 0.01, 0.1],\n",
    "              \"num_leaves\": np.arange(20, 220, 50),\n",
    "             }\n",
    "          \n",
    "kfold = StratifiedKFold(n_splits=3, shuffle=True)\n",
    "grid_search = GridSearchCV(lbg, param_grid, scoring=\"recall\", n_jobs=-1, cv=kfold)\n",
    "grid_result = grid_search.fit(X_train_rus, y_train_rus)\n",
    "\n",
    "print(f'Best result: {grid_result.best_score_} for {grid_result.best_params_}')"
   ]
  },
  {
   "cell_type": "code",
   "execution_count": 32,
   "id": "f6394fe3",
   "metadata": {},
   "outputs": [
    {
     "name": "stdout",
     "output_type": "stream",
     "text": [
      "[LightGBM] [Warning] min_data_in_leaf is set=400, min_child_samples=20 will be ignored. Current value: min_data_in_leaf=400\n",
      "[LightGBM] [Warning] min_data_in_leaf is set=400, min_child_samples=20 will be ignored. Current value: min_data_in_leaf=400\n",
      "[LightGBM] [Info] Number of positive: 4996, number of negative: 4996\n",
      "[LightGBM] [Warning] Auto-choosing row-wise multi-threading, the overhead of testing was 0.003317 seconds.\n",
      "You can set `force_row_wise=true` to remove the overhead.\n",
      "And if memory is not enough, you can set `force_col_wise=true`.\n",
      "[LightGBM] [Info] Total Bins 2761\n",
      "[LightGBM] [Info] Number of data points in the train set: 9992, number of used features: 51\n",
      "[LightGBM] [Info] [binary:BoostFromScore]: pavg=0.500000 -> initscore=0.000000\n",
      "[LightGBM] [Warning] No further splits with positive gain, best gain: -inf\n",
      "[LightGBM] [Warning] No further splits with positive gain, best gain: -inf\n",
      "[LightGBM] [Warning] No further splits with positive gain, best gain: -inf\n",
      "[LightGBM] [Warning] No further splits with positive gain, best gain: -inf\n",
      "[LightGBM] [Warning] No further splits with positive gain, best gain: -inf\n",
      "[LightGBM] [Warning] No further splits with positive gain, best gain: -inf\n",
      "[LightGBM] [Warning] No further splits with positive gain, best gain: -inf\n",
      "[LightGBM] [Warning] No further splits with positive gain, best gain: -inf\n",
      "[LightGBM] [Warning] No further splits with positive gain, best gain: -inf\n",
      "[LightGBM] [Warning] No further splits with positive gain, best gain: -inf\n",
      "[LightGBM] [Warning] No further splits with positive gain, best gain: -inf\n",
      "[LightGBM] [Warning] No further splits with positive gain, best gain: -inf\n",
      "[LightGBM] [Warning] No further splits with positive gain, best gain: -inf\n",
      "[LightGBM] [Warning] No further splits with positive gain, best gain: -inf\n",
      "[LightGBM] [Warning] No further splits with positive gain, best gain: -inf\n",
      "[LightGBM] [Warning] No further splits with positive gain, best gain: -inf\n",
      "[LightGBM] [Warning] No further splits with positive gain, best gain: -inf\n",
      "[LightGBM] [Warning] No further splits with positive gain, best gain: -inf\n",
      "[LightGBM] [Warning] No further splits with positive gain, best gain: -inf\n",
      "[LightGBM] [Warning] No further splits with positive gain, best gain: -inf\n",
      "[LightGBM] [Warning] No further splits with positive gain, best gain: -inf\n",
      "[LightGBM] [Warning] No further splits with positive gain, best gain: -inf\n",
      "[LightGBM] [Warning] No further splits with positive gain, best gain: -inf\n",
      "[LightGBM] [Warning] No further splits with positive gain, best gain: -inf\n",
      "[LightGBM] [Warning] No further splits with positive gain, best gain: -inf\n",
      "[LightGBM] [Warning] No further splits with positive gain, best gain: -inf\n",
      "[LightGBM] [Warning] No further splits with positive gain, best gain: -inf\n",
      "[LightGBM] [Warning] No further splits with positive gain, best gain: -inf\n",
      "[LightGBM] [Warning] No further splits with positive gain, best gain: -inf\n",
      "[LightGBM] [Warning] No further splits with positive gain, best gain: -inf\n",
      "[LightGBM] [Warning] No further splits with positive gain, best gain: -inf\n",
      "[LightGBM] [Warning] No further splits with positive gain, best gain: -inf\n",
      "[LightGBM] [Warning] No further splits with positive gain, best gain: -inf\n",
      "[LightGBM] [Warning] No further splits with positive gain, best gain: -inf\n",
      "[LightGBM] [Warning] No further splits with positive gain, best gain: -inf\n",
      "[LightGBM] [Warning] No further splits with positive gain, best gain: -inf\n",
      "[LightGBM] [Warning] No further splits with positive gain, best gain: -inf\n",
      "[LightGBM] [Warning] No further splits with positive gain, best gain: -inf\n",
      "[LightGBM] [Warning] No further splits with positive gain, best gain: -inf\n",
      "[LightGBM] [Warning] No further splits with positive gain, best gain: -inf\n",
      "[LightGBM] [Warning] No further splits with positive gain, best gain: -inf\n",
      "[LightGBM] [Warning] No further splits with positive gain, best gain: -inf\n",
      "[LightGBM] [Warning] No further splits with positive gain, best gain: -inf\n",
      "[LightGBM] [Warning] No further splits with positive gain, best gain: -inf\n",
      "[LightGBM] [Warning] No further splits with positive gain, best gain: -inf\n",
      "[LightGBM] [Warning] No further splits with positive gain, best gain: -inf\n",
      "[LightGBM] [Warning] No further splits with positive gain, best gain: -inf\n",
      "[LightGBM] [Warning] No further splits with positive gain, best gain: -inf\n",
      "[LightGBM] [Warning] No further splits with positive gain, best gain: -inf\n",
      "[LightGBM] [Warning] No further splits with positive gain, best gain: -inf\n",
      "[LightGBM] [Warning] No further splits with positive gain, best gain: -inf\n",
      "[LightGBM] [Warning] No further splits with positive gain, best gain: -inf\n",
      "[LightGBM] [Warning] No further splits with positive gain, best gain: -inf\n",
      "[LightGBM] [Warning] No further splits with positive gain, best gain: -inf\n",
      "[LightGBM] [Warning] No further splits with positive gain, best gain: -inf\n",
      "[LightGBM] [Warning] No further splits with positive gain, best gain: -inf\n",
      "[LightGBM] [Warning] No further splits with positive gain, best gain: -inf\n",
      "[LightGBM] [Warning] No further splits with positive gain, best gain: -inf\n",
      "[LightGBM] [Warning] No further splits with positive gain, best gain: -inf\n",
      "[LightGBM] [Warning] No further splits with positive gain, best gain: -inf\n",
      "[LightGBM] [Warning] No further splits with positive gain, best gain: -inf\n",
      "[LightGBM] [Warning] No further splits with positive gain, best gain: -inf\n",
      "[LightGBM] [Warning] No further splits with positive gain, best gain: -inf\n",
      "[LightGBM] [Warning] No further splits with positive gain, best gain: -inf\n",
      "[LightGBM] [Warning] No further splits with positive gain, best gain: -inf\n",
      "[LightGBM] [Warning] No further splits with positive gain, best gain: -inf\n",
      "[LightGBM] [Warning] No further splits with positive gain, best gain: -inf\n",
      "[LightGBM] [Warning] No further splits with positive gain, best gain: -inf\n",
      "[LightGBM] [Warning] No further splits with positive gain, best gain: -inf\n",
      "[LightGBM] [Warning] No further splits with positive gain, best gain: -inf\n",
      "[LightGBM] [Warning] No further splits with positive gain, best gain: -inf\n",
      "[LightGBM] [Warning] No further splits with positive gain, best gain: -inf\n",
      "[LightGBM] [Warning] No further splits with positive gain, best gain: -inf\n",
      "[LightGBM] [Warning] No further splits with positive gain, best gain: -inf\n",
      "[LightGBM] [Warning] No further splits with positive gain, best gain: -inf\n",
      "[LightGBM] [Warning] No further splits with positive gain, best gain: -inf\n",
      "[LightGBM] [Warning] No further splits with positive gain, best gain: -inf\n",
      "[LightGBM] [Warning] No further splits with positive gain, best gain: -inf\n",
      "[LightGBM] [Warning] No further splits with positive gain, best gain: -inf\n",
      "[LightGBM] [Warning] No further splits with positive gain, best gain: -inf\n",
      "[LightGBM] [Warning] No further splits with positive gain, best gain: -inf\n",
      "[LightGBM] [Warning] No further splits with positive gain, best gain: -inf\n",
      "[LightGBM] [Warning] No further splits with positive gain, best gain: -inf\n",
      "[LightGBM] [Warning] No further splits with positive gain, best gain: -inf\n",
      "[LightGBM] [Warning] No further splits with positive gain, best gain: -inf\n",
      "[LightGBM] [Warning] No further splits with positive gain, best gain: -inf\n",
      "[LightGBM] [Warning] No further splits with positive gain, best gain: -inf\n",
      "[LightGBM] [Warning] No further splits with positive gain, best gain: -inf\n",
      "[LightGBM] [Warning] No further splits with positive gain, best gain: -inf\n",
      "[LightGBM] [Warning] No further splits with positive gain, best gain: -inf\n",
      "[LightGBM] [Warning] No further splits with positive gain, best gain: -inf\n",
      "[LightGBM] [Warning] No further splits with positive gain, best gain: -inf\n",
      "[LightGBM] [Warning] No further splits with positive gain, best gain: -inf\n",
      "[LightGBM] [Warning] No further splits with positive gain, best gain: -inf\n",
      "[LightGBM] [Warning] No further splits with positive gain, best gain: -inf\n",
      "[LightGBM] [Warning] No further splits with positive gain, best gain: -inf\n",
      "[LightGBM] [Warning] No further splits with positive gain, best gain: -inf\n",
      "[LightGBM] [Warning] No further splits with positive gain, best gain: -inf\n",
      "[LightGBM] [Warning] No further splits with positive gain, best gain: -inf\n",
      "[LightGBM] [Warning] No further splits with positive gain, best gain: -inf\n",
      "Best result: 0.7115637846730284 for {'min_data_in_leaf': 400}\n"
     ]
    }
   ],
   "source": [
    "lbg = LGBMClassifier(learning_rate=0.01, max_depth=5, num_leaves=50, silent=False)\n",
    "\n",
    "# PARAMETERS TO SEARCH FOR OPTIMALITY\n",
    "param_grid = {'min_data_in_leaf': np.arange(100, 1000, 100)}\n",
    "\n",
    "kfold = StratifiedKFold(n_splits=3, shuffle=True)\n",
    "grid_search = GridSearchCV(lbg, param_grid, scoring=\"recall\", n_jobs=-1, cv=kfold)\n",
    "grid_result = grid_search.fit(X_train_rus, y_train_rus)\n",
    "\n",
    "print(f'Best result: {grid_result.best_score_} for {grid_result.best_params_}')"
   ]
  },
  {
   "cell_type": "markdown",
   "id": "47b12cb8",
   "metadata": {},
   "source": [
    "### RandomForestClassifier"
   ]
  },
  {
   "cell_type": "code",
   "execution_count": 33,
   "id": "281c69c9",
   "metadata": {},
   "outputs": [
    {
     "name": "stdout",
     "output_type": "stream",
     "text": [
      "Best result: 0.6867465304440095 for {'max_depth': 6, 'max_features': 120, 'n_estimators': 150}\n"
     ]
    }
   ],
   "source": [
    "# RandomForestClassifier\n",
    "rfc = RandomForestClassifier()\n",
    "\n",
    "# PARAMETERS TO SEARCH FOR OPTIMALITY\n",
    "param_grid = {'max_depth': [6, 8, 10],\n",
    "              'max_features': [100, 120, 144],\n",
    "              'n_estimators': [50, 100, 150],\n",
    "             }\n",
    "           \n",
    "kfold = StratifiedKFold(n_splits=3, shuffle=True)\n",
    "grid_search = GridSearchCV(rfc, param_grid, scoring=\"recall\", n_jobs=-1, cv=kfold)\n",
    "grid_result = grid_search.fit(X_train_rus, y_train_rus)\n",
    "\n",
    "print(f'Best result: {grid_result.best_score_} for {grid_result.best_params_}')"
   ]
  },
  {
   "cell_type": "markdown",
   "id": "26b6092c",
   "metadata": {},
   "source": [
    "After searching for optimal paramters all three models recorded an improvement in performance.However, XGBoost attained the best score,on the oher hand, LightGBM and CatBoost had a slightly relative improvemet."
   ]
  },
  {
   "cell_type": "markdown",
   "id": "202050d9",
   "metadata": {},
   "source": [
    "## Evaluatiing the models on Test Data"
   ]
  },
  {
   "cell_type": "code",
   "execution_count": 34,
   "id": "b4a78b08",
   "metadata": {},
   "outputs": [
    {
     "name": "stdout",
     "output_type": "stream",
     "text": [
      "[15:00:44] WARNING: C:/Users/Administrator/workspace/xgboost-win64_release_1.5.1/src/learner.cc:1115: Starting in XGBoost 1.3.0, the default evaluation metric used with the objective 'binary:logistic' was changed from 'error' to 'logloss'. Explicitly set eval_metric if you'd like to restore the old behavior.\n",
      "              precision    recall  f1-score   support\n",
      "\n",
      "           0       0.92      0.43      0.59      8771\n",
      "           1       0.21      0.81      0.34      1665\n",
      "\n",
      "    accuracy                           0.49     10436\n",
      "   macro avg       0.57      0.62      0.46     10436\n",
      "weighted avg       0.81      0.49      0.55     10436\n",
      "\n"
     ]
    },
    {
     "data": {
      "image/png": "[encoded data removed]",
      "text/plain": [
       "<Figure size 432x288 with 2 Axes>"
      ]
     },
     "metadata": {
      "needs_background": "light"
     },
     "output_type": "display_data"
    }
   ],
   "source": [
    "# FINAL XGBoost MODEL\n",
    "xgb = XGBClassifier(max_depth=3, learning_rate=0.0001, n_estimators=50, gamma=1, min_child_weight=6)\n",
    "xgb.fit(X_train_rus, y_train_rus)\n",
    "\n",
    "# PREDICTION ON TEST SET\n",
    "X_test_xgb = scaler.transform(X_test)\n",
    "y_pred_xgb = xgb.predict(X_test_xgb)\n",
    "\n",
    "# PRINT CLASSIFICATION REPORT\n",
    "print(classification_report(y_test, y_pred_xgb))\n",
    "\n",
    "# GENERATE CONFUSION MATRIC\n",
    "fig, ax = plt.subplots()\n",
    "sns.heatmap(confusion_matrix(y_test, y_pred_xgb, normalize='true'), annot=True, ax=ax)\n",
    "ax.set_title('Confusion Matrix - XGBoost')\n",
    "ax.set_xlabel('Predicted Value')\n",
    "ax.set_ylabel('Real Value')\n",
    "\n",
    "plt.show()"
   ]
  },
  {
   "cell_type": "code",
   "execution_count": 35,
   "id": "f0869991",
   "metadata": {},
   "outputs": [
    {
     "name": "stdout",
     "output_type": "stream",
     "text": [
      "[LightGBM] [Warning] min_data_in_leaf is set=400, min_child_samples=20 will be ignored. Current value: min_data_in_leaf=400\n",
      "              precision    recall  f1-score   support\n",
      "\n",
      "           0       0.91      0.62      0.73      8771\n",
      "           1       0.25      0.69      0.37      1665\n",
      "\n",
      "    accuracy                           0.63     10436\n",
      "   macro avg       0.58      0.65      0.55     10436\n",
      "weighted avg       0.81      0.63      0.68     10436\n",
      "\n"
     ]
    },
    {
     "data": {
      "image/png": "[encoded data removed]",
      "text/plain": [
       "<Figure size 432x288 with 2 Axes>"
      ]
     },
     "metadata": {
      "needs_background": "light"
     },
     "output_type": "display_data"
    }
   ],
   "source": [
    "# FINAL LightGBM MODEL\n",
    "lgb = LGBMClassifier(num_leaves=70, max_depth=5, learning_rate=0.01, min_data_in_leaf=400)\n",
    "lgb.fit(X_train_rus, y_train_rus)\n",
    "\n",
    "# PREDICTION ON TEST SET\n",
    "X_test_lgb = scaler.transform(X_test)\n",
    "y_pred_lgb = lgb.predict(X_test_lgb)\n",
    "\n",
    "# PRINT CLASSIFICATION REPORT\n",
    "print(classification_report(y_test, y_pred_lgb))\n",
    "\n",
    "# GENERATE CONFUSION MATRIC\n",
    "fig, ax = plt.subplots()\n",
    "sns.heatmap(confusion_matrix(y_test, y_pred_lgb, normalize='true'), annot=True, ax=ax)\n",
    "ax.set_title('Confusion Matrix - LightGBM')\n",
    "ax.set_xlabel('Predicted Value')\n",
    "ax.set_ylabel('Real Value')\n",
    "\n",
    "plt.show()"
   ]
  },
  {
   "cell_type": "code",
   "execution_count": 46,
   "id": "563df29c",
   "metadata": {},
   "outputs": [
    {
     "name": "stdout",
     "output_type": "stream",
     "text": [
      "              precision    recall  f1-score   support\n",
      "\n",
      "           0       0.91      0.64      0.75      8771\n",
      "           1       0.26      0.66      0.37      1665\n",
      "\n",
      "    accuracy                           0.64     10436\n",
      "   macro avg       0.58      0.65      0.56     10436\n",
      "weighted avg       0.80      0.64      0.69     10436\n",
      "\n"
     ]
    },
    {
     "data": {
      "image/png": "[encoded data removed]",
      "text/plain": [
       "<Figure size 432x288 with 2 Axes>"
      ]
     },
     "metadata": {
      "needs_background": "light"
     },
     "output_type": "display_data"
    }
   ],
   "source": [
    "# FINAL RandomForestClassifier MODEL\n",
    "rfc = RandomForestClassifier(n_estimators=150)\n",
    "rfc.fit(X_train_rus, y_train_rus)\n",
    "\n",
    "# PREDICTION ON TEST SET\n",
    "X_test_cb = scaler.transform(X_test)\n",
    "y_pred_cb = rfc.predict(X_test_cb)\n",
    "\n",
    "# PRINT CLASSIFICATION REPORT\n",
    "print(classification_report(y_test, y_pred_cb))\n",
    "\n",
    "# GENERATE CONFUSION MATRIX\n",
    "fig, ax = plt.subplots()\n",
    "sns.heatmap(confusion_matrix(y_test, y_pred_cb, normalize='true'), annot=True, ax=ax)\n",
    "ax.set_title('Confusion Matrix - RandomForest')\n",
    "ax.set_xlabel('Predicted Value')\n",
    "ax.set_ylabel('Real Value')\n",
    "\n",
    "plt.show()"
   ]
  },
  {
   "cell_type": "code",
   "execution_count": null,
   "id": "4470d830",
   "metadata": {},
   "outputs": [],
   "source": []
  }
 ],
 "metadata": {
  "kernelspec": {
   "display_name": "Python 3 (ipykernel)",
   "language": "python",
   "name": "python3"
  },
  "language_info": {
   "codemirror_mode": {
    "name": "ipython",
    "version": 3
   },
   "file_extension": ".py",
   "mimetype": "text/x-python",
   "name": "python",
   "nbconvert_exporter": "python",
   "pygments_lexer": "ipython3",
   "version": "3.9.7"
  }
 },
 "nbformat": 4,
 "nbformat_minor": 5
}
